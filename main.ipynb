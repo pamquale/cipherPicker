{
 "cells": [
  {
   "cell_type": "code",
   "id": "initial_id",
   "metadata": {
    "collapsed": true,
    "ExecuteTime": {
     "end_time": "2024-05-20T18:28:19.612159Z",
     "start_time": "2024-05-20T18:28:19.576776Z"
    }
   },
   "source": [
    "import base64\n",
    "import ipywidgets as widgets\n",
    "from IPython.display import display\n",
    "\n",
    "class Cipher:\n",
    "    def encrypt(self, text, key):\n",
    "        raise NotImplementedError(\"Encrypt method not implemented.\")\n",
    "    \n",
    "    def decrypt(self, text, key):\n",
    "        raise NotImplementedError(\"Decrypt method not implemented.\")\n",
    "\n",
    "class CaesarCipher(Cipher):\n",
    "    def encrypt(self, text, key):\n",
    "        result = \"\"\n",
    "        for char in text:\n",
    "            if char.isalpha():\n",
    "                shift = key % 26\n",
    "                char_code = ord(char) + shift\n",
    "                if char.islower():\n",
    "                    if char_code > ord('z'):\n",
    "                        char_code -= 26\n",
    "                elif char.isupper():\n",
    "                    if char_code > ord('Z'):\n",
    "                        char_code -= 26\n",
    "                result += chr(char_code)\n",
    "            else:\n",
    "                result += char\n",
    "        return result\n",
    "    \n",
    "    def decrypt(self, text, key):\n",
    "        return self.encrypt(text, -key)\n",
    "\n",
    "class Base64Cipher(Cipher):\n",
    "    def encrypt(self, text, key=None):\n",
    "        message_bytes = text.encode('utf-8')\n",
    "        base64_bytes = base64.b64encode(message_bytes)\n",
    "        return base64_bytes.decode('utf-8')\n",
    "    \n",
    "    def decrypt(self, text, key=None):\n",
    "        base64_bytes = text.encode('utf-8')\n",
    "        message_bytes = base64.b64decode(base64_bytes)\n",
    "        return message_bytes.decode('utf-8')\n",
    "\n",
    "class VigenereCipher(Cipher):\n",
    "    def encrypt(self, text, key):\n",
    "        key = self.generate_key(text, key)\n",
    "        encrypted_text = []\n",
    "        for i in range(len(text)):\n",
    "            if text[i].isalpha():\n",
    "                shift = (ord(text[i]) + ord(key[i])) % 26\n",
    "                encrypted_text.append(chr(shift + ord('A') if text[i].isupper() else shift + ord('a')))\n",
    "            else:\n",
    "                encrypted_text.append(text[i])\n",
    "        return \"\".join(encrypted_text)\n",
    "\n",
    "    def decrypt(self, text, key):\n",
    "        key = self.generate_key(text, key)\n",
    "        decrypted_text = []\n",
    "        for i in range(len(text)):\n",
    "            if text[i].isalpha():\n",
    "                shift = (ord(text[i]) - ord(key[i]) + 26) % 26\n",
    "                decrypted_text.append(chr(shift + ord('A') if text[i].isupper() else shift + ord('a')))\n",
    "            else:\n",
    "                decrypted_text.append(text[i])\n",
    "        return \"\".join(decrypted_text)\n",
    "\n",
    "    def generate_key(self, text, key):\n",
    "        key = list(key)\n",
    "        if len(text) == len(key):\n",
    "            return key\n",
    "        else:\n",
    "            for i in range(len(text) - len(key)):\n",
    "                key.append(key[i % len(key)])\n",
    "        return \"\".join(key)\n",
    "\n",
    "class EncryptionApp:\n",
    "    def __init__(self):\n",
    "        self.ciphers = {\n",
    "            'Caesar Cipher': CaesarCipher(),\n",
    "            'Base64 Cipher': Base64Cipher(),\n",
    "            'Vigenère Cipher': VigenereCipher()\n",
    "        }\n",
    "        self.create_widgets()\n",
    "    \n",
    "    def create_widgets(self):\n",
    "        self.text_input = widgets.Textarea(description=\"Input Text\")\n",
    "        self.key_input = widgets.Text(description=\"Key\")\n",
    "        self.cipher_selector = widgets.Dropdown(\n",
    "            options=list(self.ciphers.keys()), \n",
    "            description=\"Cipher\"\n",
    "        )\n",
    "        self.encrypt_button = widgets.Button(description=\"Encrypt\")\n",
    "        self.decrypt_button = widgets.Button(description=\"Decrypt\")\n",
    "        self.save_button = widgets.Button(description=\"Save Result\")\n",
    "        self.output_area = widgets.Output()\n",
    "        \n",
    "        self.encrypt_button.on_click(self.encrypt_text)\n",
    "        self.decrypt_button.on_click(self.decrypt_text)\n",
    "        self.save_button.on_click(self.save_result)\n",
    "        \n",
    "        display(self.text_input, self.key_input, self.cipher_selector, self.encrypt_button, self.decrypt_button, self.save_button, self.output_area)\n",
    "    \n",
    "    def encrypt_text(self, b):\n",
    "        cipher = self.ciphers[self.cipher_selector.value]\n",
    "        text = self.text_input.value\n",
    "        key = self.key_input.value\n",
    "        encrypted_text = cipher.encrypt(text, key)\n",
    "        self.result = encrypted_text\n",
    "        self.output_area.clear_output()\n",
    "        with self.output_area:\n",
    "            print(f\"Encrypted Text: {encrypted_text}\")\n",
    "    \n",
    "    def decrypt_text(self, b):\n",
    "        cipher = self.ciphers[self.cipher_selector.value]\n",
    "        text = self.text_input.value\n",
    "        key = self.key_input.value\n",
    "        decrypted_text = cipher.decrypt(text, key)\n",
    "        self.result = decrypted_text\n",
    "        self.output_area.clear_output()\n",
    "        with self.output_area:\n",
    "            print(f\"Decrypted Text: {decrypted_text}\")\n",
    "    \n",
    "    def save_result(self, b):\n",
    "        with open(\"result.txt\", \"w\") as file:\n",
    "            file.write(self.result)\n",
    "        self.output_area.clear_output()\n",
    "        with self.output_area:\n",
    "            print(f\"Result saved to result.txt\")\n",
    "\n",
    "app = EncryptionApp()\n"
   ],
   "outputs": [
    {
     "data": {
      "text/plain": [
       "Textarea(value='', description='Input Text')"
      ],
      "application/vnd.jupyter.widget-view+json": {
       "version_major": 2,
       "version_minor": 0,
       "model_id": "82265850c1cd492fbb00b2f0eb870477"
      }
     },
     "metadata": {},
     "output_type": "display_data"
    },
    {
     "data": {
      "text/plain": [
       "Text(value='', description='Key')"
      ],
      "application/vnd.jupyter.widget-view+json": {
       "version_major": 2,
       "version_minor": 0,
       "model_id": "17282d8bbea3468fa1778dda8e362d21"
      }
     },
     "metadata": {},
     "output_type": "display_data"
    },
    {
     "data": {
      "text/plain": [
       "Dropdown(description='Cipher', options=('Caesar Cipher', 'Base64 Cipher', 'Vigenère Cipher'), value='Caesar Ci…"
      ],
      "application/vnd.jupyter.widget-view+json": {
       "version_major": 2,
       "version_minor": 0,
       "model_id": "3cb3eea2c38d44c2884cb0f81a081441"
      }
     },
     "metadata": {},
     "output_type": "display_data"
    },
    {
     "data": {
      "text/plain": [
       "Button(description='Encrypt', style=ButtonStyle())"
      ],
      "application/vnd.jupyter.widget-view+json": {
       "version_major": 2,
       "version_minor": 0,
       "model_id": "1036c31e01304b62b39ceeeea0d92b33"
      }
     },
     "metadata": {},
     "output_type": "display_data"
    },
    {
     "data": {
      "text/plain": [
       "Button(description='Decrypt', style=ButtonStyle())"
      ],
      "application/vnd.jupyter.widget-view+json": {
       "version_major": 2,
       "version_minor": 0,
       "model_id": "b2f81b7056cb41bfab29937cb565801e"
      }
     },
     "metadata": {},
     "output_type": "display_data"
    },
    {
     "data": {
      "text/plain": [
       "Button(description='Save Result', style=ButtonStyle())"
      ],
      "application/vnd.jupyter.widget-view+json": {
       "version_major": 2,
       "version_minor": 0,
       "model_id": "7e3f893f2fcc4650aaf20ada5c5707f5"
      }
     },
     "metadata": {},
     "output_type": "display_data"
    },
    {
     "data": {
      "text/plain": [
       "Output()"
      ],
      "application/vnd.jupyter.widget-view+json": {
       "version_major": 2,
       "version_minor": 0,
       "model_id": "3a5192e91a074e7097acd0a8ddc45f3b"
      }
     },
     "metadata": {},
     "output_type": "display_data"
    }
   ],
   "execution_count": 3
  }
 ],
 "metadata": {
  "kernelspec": {
   "display_name": "Python 3",
   "language": "python",
   "name": "python3"
  },
  "language_info": {
   "codemirror_mode": {
    "name": "ipython",
    "version": 2
   },
   "file_extension": ".py",
   "mimetype": "text/x-python",
   "name": "python",
   "nbconvert_exporter": "python",
   "pygments_lexer": "ipython2",
   "version": "2.7.6"
  }
 },
 "nbformat": 4,
 "nbformat_minor": 5
}
